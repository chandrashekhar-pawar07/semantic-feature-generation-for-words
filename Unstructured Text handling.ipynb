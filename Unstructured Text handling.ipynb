{
 "cells": [
  {
   "cell_type": "markdown",
   "metadata": {},
   "source": [
    "### Importing required packages "
   ]
  },
  {
   "cell_type": "code",
   "execution_count": 1,
   "metadata": {},
   "outputs": [],
   "source": [
    "import pandas as pd\n",
    "import numpy as np\n",
    "import gzip\n",
    "import nltk\n",
    "import re\n",
    "import os\n",
    "import matplotlib.pyplot as plt\n",
    "import json\n",
    "import nltk\n",
    "import wikipedia\n",
    "from IPython.core.debugger import set_trace\n",
    "import warnings\n",
    "warnings.filterwarnings(\"ignore\")\n"
   ]
  },
  {
   "cell_type": "markdown",
   "metadata": {},
   "source": [
    "## Functions for specific operation"
   ]
  },
  {
   "cell_type": "code",
   "execution_count": 2,
   "metadata": {
    "scrolled": true
   },
   "outputs": [],
   "source": [
    "def parse(path):\n",
    "    g = gzip.open(path, 'rb')\n",
    "    for l in g:\n",
    "        yield eval(l)\n",
    "\n",
    "def getDF(path):\n",
    "    i = 0\n",
    "    df = {}\n",
    "    for d in parse(path):\n",
    "        df[i] = d\n",
    "        i += 1\n",
    "    return pd.DataFrame.from_dict(df, orient='index')\n",
    "\n",
    "def Remove_URLs(x):\n",
    "    '''\n",
    "    Function to remove URLS related information from Raw Text\n",
    "    '''\n",
    "    x = x.split(' ')\n",
    "    x = [i for i in x if not len(re.findall(r'[\\w\\.-]+@[\\w\\.-]+',i))]\n",
    "    x = ' '.join(x)\n",
    "    return x\n",
    "\n",
    "def tokenizing(x):\n",
    "    '''\n",
    "    Function to tokenize the data\n",
    "    '''\n",
    "    return nltk.tokenize.word_tokenize(x)\n",
    "\n",
    "def stopwords(x):\n",
    "    '''\n",
    "    Function to remove stop words from the Raw text data\n",
    "    '''\n",
    "    stop_words=nltk.corpus.stopwords.words('english')\n",
    "    x=[i for i in x if i not in stop_words]\n",
    "    return x\n",
    "\n",
    "def Lemmatization(x):\n",
    "    '''\n",
    "    Function to replace the similar words with the root of specific words\n",
    "    '''\n",
    "    lemmatizer=nltk.stem.WordNetLemmatizer()\n",
    "    x = [ lemmatizer.lemmatize(i) for i in x]\n",
    "    return x\n",
    "\n",
    "def Stemming(x):\n",
    "    '''\n",
    "    Function to perform operation of stemming on the Text data\n",
    "    '''\n",
    "    ps = nltk.stem.PorterStemmer() \n",
    "    x = [ps.stem(i) for i in x]\n",
    "    return x\n",
    "\n",
    "def Remove_numbers(x):\n",
    "    '''\n",
    "    Function to Remove numbers information from the data\n",
    "    '''\n",
    "    x = [re.sub('[^A-Z,a-z]+','',i) for i in x]\n",
    "    x = ' '.join(x).lower()\n",
    "    return x\n",
    "\n",
    "def preprocess(x):\n",
    "    '''\n",
    "    Function to apply basic preprocessing techniques on the given data\n",
    "    '''\n",
    "    x = Remove_URLs(x)\n",
    "    x = tokenizing(x)\n",
    "    x = stopwords(x)\n",
    "    x = Lemmatization(x)\n",
    "    #x = Stemming(x)\n",
    "    x = Remove_numbers(x)\n",
    "    return x\n",
    "\n",
    "def SplitText(text):\n",
    "    '''\n",
    "    Application Specific\n",
    "    ---------------------\n",
    "    Application wise preprocessing for the Questions extracted data from National consumer help line site.\n",
    "    \n",
    "    '''\n",
    "    text =list(map(lambda x: x[2:],re.sub(r'[0-2]','',text).split('\\n')))\n",
    "    return [i.replace('/','') for i in text if len(i)>1]\n",
    "\n",
    "def ExtractPOS(text, parts=['verb','adverb','noun','adj','preps']):\n",
    "    '''\n",
    "    Function to select only specific asked Parst from speech with the use of nltk Parts-of-Speech tagging.\n",
    "    specified list tags\n",
    "    '''\n",
    "    POS = pd.Series()\n",
    "    POS['verb'] = ['VB','VBD','VBG','VBN','VBP','VBZ']\n",
    "    POS['adverb'] = ['WDT','W','WP','WRB']\n",
    "    POS['noun'] = ['NN','NNS','NNP', 'NNPS']\n",
    "    POS['adj'] = ['JJ','JJR','JJS']\n",
    "    POS['preps'] = ['PRP','IN']\n",
    "    word_tags = nltk.pos_tag(nltk.tokenize.word_tokenize(text.lower()))\n",
    "    return [tag[0] for tag in word_tags if tag[1] in np.hstack(POS[parts].tolist())]\n",
    "\n",
    "def search_in_wiki(Sector):\n",
    "    '''\n",
    "    Function to search for specific word in the Wikipedia. Function will only returns the summary of wikipedia page \n",
    "    information\n",
    "    '''\n",
    "    try:\n",
    "        summary = wikipedia.summary(Sector)\n",
    "    except wikipedia.DisambiguationError as e:\n",
    "        Sector = e.options[np.random.randint(len(e.options))]\n",
    "        summary = wikipedia.summary(Sector)\n",
    "    return summary\n",
    "\n",
    "\n",
    "def RemoveTextOutliers(ProductSummary):\n",
    "    '''\n",
    "    Function to remove the outliers from text\n",
    "    \n",
    "    Here Gensim vector generation technique have used in generating the features for each word.\n",
    "    Once the 104 dimensional vector have generated for each word, Sklearn 104 dimensional K-Means cluster will be build \n",
    "    for all the given words.\n",
    "    Based on the Distribution of distances between Cluster centroid, Outlier words will be removed from the Text\n",
    "    \n",
    "    '''\n",
    "    ProductNounVector = pd.Series()\n",
    "    Nouns = ExtractPOS(ProductSummary,parts=['noun'])\n",
    "    ProductNouns = pd.Series(nltk.FreqDist(Nouns))\n",
    "    for noun in ProductNouns.keys():\n",
    "        try:\n",
    "            ProductNounVector[noun] = word_vectors[noun]\n",
    "        except:\n",
    "            pass\n",
    "\n",
    "    kmeans = KMeans(n_clusters=1, random_state=0).fit(np.vstack(ProductNounVector.values))\n",
    "    ClusterCenter = kmeans.cluster_centers_\n",
    "\n",
    "    ClusterDistances = np.vstack(ProductNounVector) - ClusterCenter\n",
    "    ClusterDistances = pd.Series(np.apply_along_axis(np.linalg.norm, 1, ClusterDistances), index=ProductNounVector.index)\n",
    "\n",
    "    #ProductNouns = ProductNouns[ClusterDistances[ClusterDistances<5].index]\n",
    "    ProductNouns = ProductNouns[ClusterDistances[ClusterDistances<ClusterDistances.quantile(.7)].index]\n",
    "\n",
    "    return ProductNouns\n",
    "\n",
    "\n",
    "def Automatic_Sector(ProductSummary):\n",
    "    '''\n",
    "    Application Specific\n",
    "    ---------------------\n",
    "    Application Specific Function in selecting the sector associated with the given word\n",
    "    '''\n",
    "    ProductNouns = RemoveTextOutliers(ProductSummary)\n",
    "    ProductSectorRating = {}\n",
    "    for Sector in ComplaintSectors.keys():\n",
    "        ProductSectorRating[Sector] = 0\n",
    "        for word, weight in ProductNouns.items():\n",
    "            try:\n",
    "                ProductSectorRating[Sector] += word_vectors.similarity(Sector.lower().split()[0],word) *weight\n",
    "            except:\n",
    "                pass\n",
    "\n",
    "    ProductSectorRating = pd.Series(ProductSectorRating)\n",
    "    ProductSector = ProductSectorRating.idxmax()\n",
    "    return ProductSector"
   ]
  },
  {
   "cell_type": "markdown",
   "metadata": {},
   "source": [
    "### Intended Preprocessing\n",
    "\n",
    "    ## Preparing Questionnaire\n",
    "\n",
    "    ### 1- GPT-2 to summarize the terms information\n",
    "    ### 2- extracting the verbs and nouns information\n",
    "    ### 3- Prepare a Question based on the "
   ]
  },
  {
   "cell_type": "markdown",
   "metadata": {},
   "source": [
    "## Mandatory Conditions Extraction"
   ]
  },
  {
   "cell_type": "markdown",
   "metadata": {},
   "source": [
    "# Questionnaire Preparation"
   ]
  },
  {
   "cell_type": "code",
   "execution_count": 3,
   "metadata": {},
   "outputs": [],
   "source": [
    "import gensim.downloader as api\n",
    "from sklearn.cluster import KMeans\n",
    "\n",
    "word_vectors = api.load(\"glove-wiki-gigaword-100\")  # load pre-trained word-vectors from gensim-data"
   ]
  },
  {
   "cell_type": "code",
   "execution_count": 4,
   "metadata": {},
   "outputs": [],
   "source": [
    "# ComplaintSectorRaw = {'Airlines' : Conditions_Airlines,\n",
    "#                    'Automobiles vehicles' : Conditions_Automobiles,\n",
    "#                    'Banking sector' : Conditions_Banking,\n",
    "#                    'Domestic Applications' : Conditions_DomesticApp,\n",
    "#                    'Electricity' : Conditions_Electricity,\n",
    "#                    'Food Safety' : Conditions_FoodSafety,\n",
    "#                    'Insurance' :Conditions_Insurance,\n",
    "#                    'Legal Metrology':Conditions_LegalMetrology,\n",
    "#                    'Medical Negligence':Conditions_MedicalNegligence,\n",
    "#                    'NonBank Finance':Conditions_NonBankFC,\n",
    "#                    'Petroleum':Conditions_Petroleum,\n",
    "#                    'Postal':Conditions_Postal,\n",
    "#                    'Public Distributions':Conditions_PublicDistS,\n",
    "#                    'Real Estate':Conditions_RealEstate}\n",
    "# ComplaintSectors = dict([(SectorName,SplitText(Sector)) for SectorName, Sector in ComplaintSectorRaw.items()])\n",
    "\n",
    "\n",
    "# with open('ComplaintsLog.json','w') as file:\n",
    "#     json.dump(ComplaintSectors,file)"
   ]
  },
  {
   "cell_type": "code",
   "execution_count": 5,
   "metadata": {},
   "outputs": [],
   "source": [
    "with open('ComplaintsLog.json','r') as file:\n",
    "    ComplaintSectors = json.load(file)"
   ]
  },
  {
   "cell_type": "code",
   "execution_count": 14,
   "metadata": {
    "scrolled": true
   },
   "outputs": [
    {
     "name": "stdout",
     "output_type": "stream",
     "text": [
      "Postal  Could not find from WIKI\n"
     ]
    }
   ],
   "source": [
    "# Product_Summaries = [wikipedia.summary(Sector) for Sector in ComplaintSectors.keys()]\n",
    "string = 'postal'\n",
    "Product_Summaries = {}\n",
    "for Sector in ComplaintSectors.keys():\n",
    "    try:\n",
    "        summary = search_in_wiki(Sector)\n",
    "    except:\n",
    "        print(Sector,' Could not find from WIKI')\n",
    "    Product_Summaries[Sector] = summary"
   ]
  },
  {
   "cell_type": "code",
   "execution_count": null,
   "metadata": {},
   "outputs": [],
   "source": []
  },
  {
   "cell_type": "code",
   "execution_count": null,
   "metadata": {},
   "outputs": [],
   "source": []
  },
  {
   "cell_type": "code",
   "execution_count": 25,
   "metadata": {
    "scrolled": true
   },
   "outputs": [],
   "source": [
    "ProductName = 'aashirvaad ghee'\n",
    "#ProductName = 'basmati rice'\n",
    "# ProductRatings = pd.Series(dict([(i,np.linalg.norm(word_vectors[i.split()[0].lower()]-word_vectors[ProductName])) for i in Product_Summaries.keys()]))\n",
    "# FreqComplaints = ComplaintSectors[ProductRatings.idxmin()]"
   ]
  },
  {
   "cell_type": "code",
   "execution_count": 26,
   "metadata": {
    "scrolled": true
   },
   "outputs": [
    {
     "ename": "PageError",
     "evalue": "Page id \"aashirwaad ghar\" does not match any pages. Try another id!",
     "output_type": "error",
     "traceback": [
      "\u001b[1;31m---------------------------------------------------------------------------\u001b[0m",
      "\u001b[1;31mPageError\u001b[0m                                 Traceback (most recent call last)",
      "\u001b[1;32m<ipython-input-26-df2053410176>\u001b[0m in \u001b[0;36m<module>\u001b[1;34m\u001b[0m\n\u001b[1;32m----> 1\u001b[1;33m \u001b[0mProductSummary\u001b[0m \u001b[1;33m=\u001b[0m \u001b[0msearch_in_wiki\u001b[0m\u001b[1;33m(\u001b[0m\u001b[0mProductName\u001b[0m\u001b[1;33m)\u001b[0m\u001b[1;33m\u001b[0m\u001b[1;33m\u001b[0m\u001b[0m\n\u001b[0m\u001b[0;32m      2\u001b[0m \u001b[0mProductSummary\u001b[0m \u001b[1;33m=\u001b[0m \u001b[0mpreprocess\u001b[0m\u001b[1;33m(\u001b[0m\u001b[0mProductSummary\u001b[0m\u001b[1;33m)\u001b[0m\u001b[1;33m\u001b[0m\u001b[1;33m\u001b[0m\u001b[0m\n",
      "\u001b[1;32m<ipython-input-2-573f80110fc2>\u001b[0m in \u001b[0;36msearch_in_wiki\u001b[1;34m(Sector)\u001b[0m\n\u001b[0;32m     59\u001b[0m \u001b[1;32mdef\u001b[0m \u001b[0msearch_in_wiki\u001b[0m\u001b[1;33m(\u001b[0m\u001b[0mSector\u001b[0m\u001b[1;33m)\u001b[0m\u001b[1;33m:\u001b[0m\u001b[1;33m\u001b[0m\u001b[1;33m\u001b[0m\u001b[0m\n\u001b[0;32m     60\u001b[0m     \u001b[1;32mtry\u001b[0m\u001b[1;33m:\u001b[0m\u001b[1;33m\u001b[0m\u001b[1;33m\u001b[0m\u001b[0m\n\u001b[1;32m---> 61\u001b[1;33m         \u001b[0msummary\u001b[0m \u001b[1;33m=\u001b[0m \u001b[0mwikipedia\u001b[0m\u001b[1;33m.\u001b[0m\u001b[0msummary\u001b[0m\u001b[1;33m(\u001b[0m\u001b[0mSector\u001b[0m\u001b[1;33m)\u001b[0m\u001b[1;33m\u001b[0m\u001b[1;33m\u001b[0m\u001b[0m\n\u001b[0m\u001b[0;32m     62\u001b[0m     \u001b[1;32mexcept\u001b[0m \u001b[0mwikipedia\u001b[0m\u001b[1;33m.\u001b[0m\u001b[0mDisambiguationError\u001b[0m \u001b[1;32mas\u001b[0m \u001b[0me\u001b[0m\u001b[1;33m:\u001b[0m\u001b[1;33m\u001b[0m\u001b[1;33m\u001b[0m\u001b[0m\n\u001b[0;32m     63\u001b[0m         \u001b[0mSector\u001b[0m \u001b[1;33m=\u001b[0m \u001b[0me\u001b[0m\u001b[1;33m.\u001b[0m\u001b[0moptions\u001b[0m\u001b[1;33m[\u001b[0m\u001b[0mnp\u001b[0m\u001b[1;33m.\u001b[0m\u001b[0mrandom\u001b[0m\u001b[1;33m.\u001b[0m\u001b[0mrandint\u001b[0m\u001b[1;33m(\u001b[0m\u001b[0mlen\u001b[0m\u001b[1;33m(\u001b[0m\u001b[0me\u001b[0m\u001b[1;33m.\u001b[0m\u001b[0moptions\u001b[0m\u001b[1;33m)\u001b[0m\u001b[1;33m)\u001b[0m\u001b[1;33m]\u001b[0m\u001b[1;33m\u001b[0m\u001b[1;33m\u001b[0m\u001b[0m\n",
      "\u001b[1;32m~\\AppData\\Local\\Continuum\\anaconda3\\lib\\site-packages\\wikipedia\\util.py\u001b[0m in \u001b[0;36m__call__\u001b[1;34m(self, *args, **kwargs)\u001b[0m\n\u001b[0;32m     26\u001b[0m       \u001b[0mret\u001b[0m \u001b[1;33m=\u001b[0m \u001b[0mself\u001b[0m\u001b[1;33m.\u001b[0m\u001b[0m_cache\u001b[0m\u001b[1;33m[\u001b[0m\u001b[0mkey\u001b[0m\u001b[1;33m]\u001b[0m\u001b[1;33m\u001b[0m\u001b[1;33m\u001b[0m\u001b[0m\n\u001b[0;32m     27\u001b[0m     \u001b[1;32melse\u001b[0m\u001b[1;33m:\u001b[0m\u001b[1;33m\u001b[0m\u001b[1;33m\u001b[0m\u001b[0m\n\u001b[1;32m---> 28\u001b[1;33m       \u001b[0mret\u001b[0m \u001b[1;33m=\u001b[0m \u001b[0mself\u001b[0m\u001b[1;33m.\u001b[0m\u001b[0m_cache\u001b[0m\u001b[1;33m[\u001b[0m\u001b[0mkey\u001b[0m\u001b[1;33m]\u001b[0m \u001b[1;33m=\u001b[0m \u001b[0mself\u001b[0m\u001b[1;33m.\u001b[0m\u001b[0mfn\u001b[0m\u001b[1;33m(\u001b[0m\u001b[1;33m*\u001b[0m\u001b[0margs\u001b[0m\u001b[1;33m,\u001b[0m \u001b[1;33m**\u001b[0m\u001b[0mkwargs\u001b[0m\u001b[1;33m)\u001b[0m\u001b[1;33m\u001b[0m\u001b[1;33m\u001b[0m\u001b[0m\n\u001b[0m\u001b[0;32m     29\u001b[0m \u001b[1;33m\u001b[0m\u001b[0m\n\u001b[0;32m     30\u001b[0m     \u001b[1;32mreturn\u001b[0m \u001b[0mret\u001b[0m\u001b[1;33m\u001b[0m\u001b[1;33m\u001b[0m\u001b[0m\n",
      "\u001b[1;32m~\\AppData\\Local\\Continuum\\anaconda3\\lib\\site-packages\\wikipedia\\wikipedia.py\u001b[0m in \u001b[0;36msummary\u001b[1;34m(title, sentences, chars, auto_suggest, redirect)\u001b[0m\n\u001b[0;32m    229\u001b[0m   \u001b[1;31m# use auto_suggest and redirect to get the correct article\u001b[0m\u001b[1;33m\u001b[0m\u001b[1;33m\u001b[0m\u001b[1;33m\u001b[0m\u001b[0m\n\u001b[0;32m    230\u001b[0m   \u001b[1;31m# also, use page's error checking to raise DisambiguationError if necessary\u001b[0m\u001b[1;33m\u001b[0m\u001b[1;33m\u001b[0m\u001b[1;33m\u001b[0m\u001b[0m\n\u001b[1;32m--> 231\u001b[1;33m   \u001b[0mpage_info\u001b[0m \u001b[1;33m=\u001b[0m \u001b[0mpage\u001b[0m\u001b[1;33m(\u001b[0m\u001b[0mtitle\u001b[0m\u001b[1;33m,\u001b[0m \u001b[0mauto_suggest\u001b[0m\u001b[1;33m=\u001b[0m\u001b[0mauto_suggest\u001b[0m\u001b[1;33m,\u001b[0m \u001b[0mredirect\u001b[0m\u001b[1;33m=\u001b[0m\u001b[0mredirect\u001b[0m\u001b[1;33m)\u001b[0m\u001b[1;33m\u001b[0m\u001b[1;33m\u001b[0m\u001b[0m\n\u001b[0m\u001b[0;32m    232\u001b[0m   \u001b[0mtitle\u001b[0m \u001b[1;33m=\u001b[0m \u001b[0mpage_info\u001b[0m\u001b[1;33m.\u001b[0m\u001b[0mtitle\u001b[0m\u001b[1;33m\u001b[0m\u001b[1;33m\u001b[0m\u001b[0m\n\u001b[0;32m    233\u001b[0m   \u001b[0mpageid\u001b[0m \u001b[1;33m=\u001b[0m \u001b[0mpage_info\u001b[0m\u001b[1;33m.\u001b[0m\u001b[0mpageid\u001b[0m\u001b[1;33m\u001b[0m\u001b[1;33m\u001b[0m\u001b[0m\n",
      "\u001b[1;32m~\\AppData\\Local\\Continuum\\anaconda3\\lib\\site-packages\\wikipedia\\wikipedia.py\u001b[0m in \u001b[0;36mpage\u001b[1;34m(title, pageid, auto_suggest, redirect, preload)\u001b[0m\n\u001b[0;32m    274\u001b[0m         \u001b[1;31m# if there is no suggestion or search results, the page doesn't exist\u001b[0m\u001b[1;33m\u001b[0m\u001b[1;33m\u001b[0m\u001b[1;33m\u001b[0m\u001b[0m\n\u001b[0;32m    275\u001b[0m         \u001b[1;32mraise\u001b[0m \u001b[0mPageError\u001b[0m\u001b[1;33m(\u001b[0m\u001b[0mtitle\u001b[0m\u001b[1;33m)\u001b[0m\u001b[1;33m\u001b[0m\u001b[1;33m\u001b[0m\u001b[0m\n\u001b[1;32m--> 276\u001b[1;33m     \u001b[1;32mreturn\u001b[0m \u001b[0mWikipediaPage\u001b[0m\u001b[1;33m(\u001b[0m\u001b[0mtitle\u001b[0m\u001b[1;33m,\u001b[0m \u001b[0mredirect\u001b[0m\u001b[1;33m=\u001b[0m\u001b[0mredirect\u001b[0m\u001b[1;33m,\u001b[0m \u001b[0mpreload\u001b[0m\u001b[1;33m=\u001b[0m\u001b[0mpreload\u001b[0m\u001b[1;33m)\u001b[0m\u001b[1;33m\u001b[0m\u001b[1;33m\u001b[0m\u001b[0m\n\u001b[0m\u001b[0;32m    277\u001b[0m   \u001b[1;32melif\u001b[0m \u001b[0mpageid\u001b[0m \u001b[1;32mis\u001b[0m \u001b[1;32mnot\u001b[0m \u001b[1;32mNone\u001b[0m\u001b[1;33m:\u001b[0m\u001b[1;33m\u001b[0m\u001b[1;33m\u001b[0m\u001b[0m\n\u001b[0;32m    278\u001b[0m     \u001b[1;32mreturn\u001b[0m \u001b[0mWikipediaPage\u001b[0m\u001b[1;33m(\u001b[0m\u001b[0mpageid\u001b[0m\u001b[1;33m=\u001b[0m\u001b[0mpageid\u001b[0m\u001b[1;33m,\u001b[0m \u001b[0mpreload\u001b[0m\u001b[1;33m=\u001b[0m\u001b[0mpreload\u001b[0m\u001b[1;33m)\u001b[0m\u001b[1;33m\u001b[0m\u001b[1;33m\u001b[0m\u001b[0m\n",
      "\u001b[1;32m~\\AppData\\Local\\Continuum\\anaconda3\\lib\\site-packages\\wikipedia\\wikipedia.py\u001b[0m in \u001b[0;36m__init__\u001b[1;34m(self, title, pageid, redirect, preload, original_title)\u001b[0m\n\u001b[0;32m    297\u001b[0m       \u001b[1;32mraise\u001b[0m \u001b[0mValueError\u001b[0m\u001b[1;33m(\u001b[0m\u001b[1;34m\"Either a title or a pageid must be specified\"\u001b[0m\u001b[1;33m)\u001b[0m\u001b[1;33m\u001b[0m\u001b[1;33m\u001b[0m\u001b[0m\n\u001b[0;32m    298\u001b[0m \u001b[1;33m\u001b[0m\u001b[0m\n\u001b[1;32m--> 299\u001b[1;33m     \u001b[0mself\u001b[0m\u001b[1;33m.\u001b[0m\u001b[0m__load\u001b[0m\u001b[1;33m(\u001b[0m\u001b[0mredirect\u001b[0m\u001b[1;33m=\u001b[0m\u001b[0mredirect\u001b[0m\u001b[1;33m,\u001b[0m \u001b[0mpreload\u001b[0m\u001b[1;33m=\u001b[0m\u001b[0mpreload\u001b[0m\u001b[1;33m)\u001b[0m\u001b[1;33m\u001b[0m\u001b[1;33m\u001b[0m\u001b[0m\n\u001b[0m\u001b[0;32m    300\u001b[0m \u001b[1;33m\u001b[0m\u001b[0m\n\u001b[0;32m    301\u001b[0m     \u001b[1;32mif\u001b[0m \u001b[0mpreload\u001b[0m\u001b[1;33m:\u001b[0m\u001b[1;33m\u001b[0m\u001b[1;33m\u001b[0m\u001b[0m\n",
      "\u001b[1;32m~\\AppData\\Local\\Continuum\\anaconda3\\lib\\site-packages\\wikipedia\\wikipedia.py\u001b[0m in \u001b[0;36m__load\u001b[1;34m(self, redirect, preload)\u001b[0m\n\u001b[0;32m    343\u001b[0m     \u001b[1;32mif\u001b[0m \u001b[1;34m'missing'\u001b[0m \u001b[1;32min\u001b[0m \u001b[0mpage\u001b[0m\u001b[1;33m:\u001b[0m\u001b[1;33m\u001b[0m\u001b[1;33m\u001b[0m\u001b[0m\n\u001b[0;32m    344\u001b[0m       \u001b[1;32mif\u001b[0m \u001b[0mhasattr\u001b[0m\u001b[1;33m(\u001b[0m\u001b[0mself\u001b[0m\u001b[1;33m,\u001b[0m \u001b[1;34m'title'\u001b[0m\u001b[1;33m)\u001b[0m\u001b[1;33m:\u001b[0m\u001b[1;33m\u001b[0m\u001b[1;33m\u001b[0m\u001b[0m\n\u001b[1;32m--> 345\u001b[1;33m         \u001b[1;32mraise\u001b[0m \u001b[0mPageError\u001b[0m\u001b[1;33m(\u001b[0m\u001b[0mself\u001b[0m\u001b[1;33m.\u001b[0m\u001b[0mtitle\u001b[0m\u001b[1;33m)\u001b[0m\u001b[1;33m\u001b[0m\u001b[1;33m\u001b[0m\u001b[0m\n\u001b[0m\u001b[0;32m    346\u001b[0m       \u001b[1;32melse\u001b[0m\u001b[1;33m:\u001b[0m\u001b[1;33m\u001b[0m\u001b[1;33m\u001b[0m\u001b[0m\n\u001b[0;32m    347\u001b[0m         \u001b[1;32mraise\u001b[0m \u001b[0mPageError\u001b[0m\u001b[1;33m(\u001b[0m\u001b[0mpageid\u001b[0m\u001b[1;33m=\u001b[0m\u001b[0mself\u001b[0m\u001b[1;33m.\u001b[0m\u001b[0mpageid\u001b[0m\u001b[1;33m)\u001b[0m\u001b[1;33m\u001b[0m\u001b[1;33m\u001b[0m\u001b[0m\n",
      "\u001b[1;31mPageError\u001b[0m: Page id \"aashirwaad ghar\" does not match any pages. Try another id!"
     ]
    }
   ],
   "source": [
    "for \n",
    "    ProductSummary = search_in_wiki(ProductName)\n",
    "    ProductSummary = preprocess(ProductSummary)"
   ]
  },
  {
   "cell_type": "code",
   "execution_count": 8,
   "metadata": {
    "scrolled": true
   },
   "outputs": [
    {
     "data": {
      "text/plain": [
       "'mahindra tractors international farm equipment manufacturer mahindra  mahindra  in  , mahindra became world s highestselling tractor brand volume  mahindra s largest consumer base india , china , north america , growing market australia  the company largest manufacturer india capacity build , tractor yearm  m produced first tractor  , mahindra b  mahindra tractors sold , unit annually making one largest tractor producer world  to expand growing tractor market china , mahindra acquired majority stake jiangling  to raise awareness mahindra us , mahindra usa announced new sponsorship nascar nationwide series r motorsports , participating   mahindra tractors chevrolet  the car driven robert richardson jr mahindra usa , inc announced race primary race associate sponsorship  nascar nationwide series  with sponsorship , mahindra first indian company sponsor car nascar  in  , mahindra sponsor mcdonald motorsports team ran   car nascar nationwide series '"
      ]
     },
     "execution_count": 8,
     "metadata": {},
     "output_type": "execute_result"
    }
   ],
   "source": [
    "ProductSummary"
   ]
  },
  {
   "cell_type": "code",
   "execution_count": 23,
   "metadata": {},
   "outputs": [],
   "source": [
    "Sector = 'Food Safety'"
   ]
  },
  {
   "cell_type": "code",
   "execution_count": 17,
   "metadata": {},
   "outputs": [],
   "source": [
    "FreqComplaints = ComplaintSectors['Food Safety']"
   ]
  },
  {
   "cell_type": "code",
   "execution_count": 19,
   "metadata": {},
   "outputs": [],
   "source": [
    "\n",
    "ComplaintsSimilairity = pd.Series(dict([(complaint,word_vectors.wmdistance(ProductSummary.lower().split(), complaint.lower().split())) for complaint in FreqComplaints]))"
   ]
  },
  {
   "cell_type": "code",
   "execution_count": 20,
   "metadata": {},
   "outputs": [
    {
     "data": {
      "text/plain": [
       "Sale of packaged food articles after expiry of best before date.    6.011220\n",
       "Insect, dust, fungus in ready to serve drinks                       6.094735\n",
       "Adulteration of spice powders                                       6.615387\n",
       "Adulteration of ghee, milk, pulses                                  6.663410\n",
       "dtype: float64"
      ]
     },
     "execution_count": 20,
     "metadata": {},
     "output_type": "execute_result"
    }
   ],
   "source": [
    "ComplaintsSimilairity.sort_values()"
   ]
  },
  {
   "cell_type": "code",
   "execution_count": null,
   "metadata": {},
   "outputs": [],
   "source": []
  },
  {
   "cell_type": "code",
   "execution_count": null,
   "metadata": {},
   "outputs": [],
   "source": []
  },
  {
   "cell_type": "code",
   "execution_count": null,
   "metadata": {},
   "outputs": [],
   "source": []
  },
  {
   "cell_type": "code",
   "execution_count": null,
   "metadata": {},
   "outputs": [],
   "source": []
  },
  {
   "cell_type": "code",
   "execution_count": null,
   "metadata": {},
   "outputs": [],
   "source": []
  },
  {
   "cell_type": "code",
   "execution_count": null,
   "metadata": {},
   "outputs": [],
   "source": []
  },
  {
   "cell_type": "code",
   "execution_count": 30,
   "metadata": {},
   "outputs": [
    {
     "name": "stdout",
     "output_type": "stream",
     "text": [
      "Airlines     5.354147165909887\n",
      "Automobiles vehicles     5.34711407441677\n",
      "Banking sector     5.53897540369214\n",
      "Domestic Applications     5.14851041210692\n",
      "Electricity     5.103478266730117\n",
      "Food Safety     4.8938753106938595\n",
      "Insurance     4.9831518923374425\n",
      "Legal Metrology     5.261231801128879\n",
      "Medical Negligence     5.619227851895438\n",
      "NonBank Finance     5.340128814766407\n",
      "Petroleum     5.1664723781576605\n",
      "Going postal (disambiguation)     5.1664723781576605\n",
      "Public Distributions     5.155120028153723\n",
      "Real Estate     5.024941283907499\n"
     ]
    }
   ],
   "source": [
    "for Sector,summary in Product_Summaries.items():\n",
    "    parts = ['verb','adj']\n",
    "    ExtractPOS(summary,parts)\n",
    "    print(Sector, '   ', word_vectors.wmdistance(ExtractPOS(Product_Wiki_info,parts), ExtractPOS(summary,parts)))\n",
    "    #print(Sector, '   ', word_vectors.wmdistance(Product_Wiki_info.lower().split(), summary.lower().split()))\n",
    "    "
   ]
  },
  {
   "cell_type": "code",
   "execution_count": null,
   "metadata": {},
   "outputs": [],
   "source": []
  },
  {
   "cell_type": "code",
   "execution_count": null,
   "metadata": {},
   "outputs": [],
   "source": []
  },
  {
   "cell_type": "code",
   "execution_count": null,
   "metadata": {},
   "outputs": [],
   "source": []
  },
  {
   "cell_type": "markdown",
   "metadata": {},
   "source": [
    "# Image Processing\n",
    "## Extracting the Helpful Reviws"
   ]
  },
  {
   "cell_type": "code",
   "execution_count": 2,
   "metadata": {},
   "outputs": [
    {
     "name": "stderr",
     "output_type": "stream",
     "text": [
      "Using TensorFlow backend.\n"
     ]
    }
   ],
   "source": [
    "# Preprocessing\n",
    "from selenium import webdriver\n",
    "from IPython.display import Image\n",
    "#import cv2\n",
    "import pickle\n",
    "from PIL import Image\n",
    "import os\n",
    "import time\n",
    "import numpy as np\n",
    "import urllib.request\n",
    "#from xvfbwrapper import Xvfb\n",
    "import urllib\n",
    "from IPython import display\n",
    "import pytesseract\n",
    "\n",
    "\n",
    "#  Modelling\n",
    "import numpy as np\n",
    "np.random.seed(531)\n",
    "# from keras.layers import Input,Dense,Dropout,Conv1D,Conv2D,Activation,LSTM,MaxPooling2D\n",
    "# from keras.models import Model,model_from_json\n",
    "# import keras\n",
    "import h5py\n",
    "from IPython.core.debugger import set_trace\n",
    "import tensorflow as tf\n",
    "\n",
    "\n",
    "def as_keras_metric(method):\n",
    "    import functools\n",
    "    from tensorflow.keras import backend as K\n",
    "    import tensorflow as tf\n",
    "    @functools.wraps(method)\n",
    "    def wrapper(self, args, **kwargs):\n",
    "        \"\"\" Wrapper for turning tensorflow metrics into keras metrics \"\"\"\n",
    "        value, update_op = method(self, args, **kwargs)\n",
    "        K.get_session().run(tf.local_variables_initializer())\n",
    "        with tf.control_dependencies([update_op]):\n",
    "            value = tf.identity(value)\n",
    "        return value\n",
    "    return wrapper\n",
    "\n",
    "@as_keras_metric\n",
    "def auc_pr(y_true, y_pred, curve='PR'):\n",
    "    return tf.metrics.auc(y_true, y_pred, curve=curve)\n",
    "from tensorflow.keras.callbacks import EarlyStopping\n",
    "import keras\n",
    "import warnings\n",
    "warnings.filterwarnings(\"ignore\")"
   ]
  },
  {
   "cell_type": "code",
   "execution_count": 3,
   "metadata": {},
   "outputs": [
    {
     "name": "stdout",
     "output_type": "stream",
     "text": [
      "shape of  Cocacola  data (203, 139, 139, 3)\n",
      "shape of  Colgate  data (76, 139, 139, 3)\n",
      "shape of  Dettol  data (130, 139, 139, 3)\n",
      "shape of  Kellogs  data (102, 139, 139, 3)\n",
      "shape of  LirilSoap  data (179, 139, 139, 3)\n",
      "shape of  Medimix  data (250, 139, 139, 3)\n",
      "shape of  Pedigree  data (130, 139, 139, 3)\n",
      "shape of  Pepsodent  data (170, 139, 139, 3)\n"
     ]
    }
   ],
   "source": [
    "loaded_images = []\n",
    "def Preprocess_Images(person,data_location):\n",
    "    images = os.listdir(os.path.join(data_location,person))\n",
    "    \n",
    "    Preprocess_data = {}\n",
    "    for i in images:\n",
    "        Img = Image.open(os.path.join(data_location,person,i))\n",
    "        Img = Img.resize((139,139),Image.ANTIALIAS)\n",
    "        if len(np.array(Img).shape) == 3 and np.array(Img).shape[2]==3:\n",
    "            Preprocess_data[i] = np.array(Img)\n",
    "            #train_person.append(np.array(Img))\n",
    "    \n",
    "    global loaded_images\n",
    "    loaded_images.append(Preprocess_data)\n",
    "        \n",
    "    train_person = np.concatenate([arr[np.newaxis] for arr in list(Preprocess_data.values())])\n",
    "\n",
    "    print('shape of ',person,' data',train_person.shape)\n",
    "    return train_person\n",
    "\n",
    "def Pattern_Preprocessing(folder_location):\n",
    "    data_location = folder_location\n",
    "    data_X = np.concatenate([Preprocess_Images(person,data_location) for person in os.listdir(data_location)])\n",
    "    data_Y = keras.utils.np_utils.to_categorical(np.repeat(np.arange(len(loaded_images)),[len(list(i.values())) for i in loaded_images])[:,None])\n",
    "    return data_X,data_Y\n",
    "\n",
    "P_data_X, P_data_Y = Pattern_Preprocessing(r'C:\\Users\\viswanadhapa\\Documents\\Naga\\Course\\WebPage\\Data\\Images')"
   ]
  },
  {
   "cell_type": "code",
   "execution_count": 5,
   "metadata": {},
   "outputs": [],
   "source": [
    "# Picking the Values Randomly from different clusters to train on data\n",
    "np.random.seed(531)\n",
    "Random_numbers = np.random.choice(range(len(P_data_X)),len(P_data_X), replace=False)\n",
    "train_seq = Random_numbers[:int(0.8*len(P_data_X))]\n",
    "test_seq = Random_numbers[int(0.8*len(P_data_X)):]\n",
    "P_Train_X = P_data_X[train_seq]\n",
    "P_Test_X = P_data_X[test_seq]\n",
    "P_Train_Y = P_data_Y[train_seq]\n",
    "P_Test_Y = P_data_Y[test_seq]"
   ]
  },
  {
   "cell_type": "code",
   "execution_count": 6,
   "metadata": {},
   "outputs": [],
   "source": [
    "from tensorflow.keras.layers import Input,Dense,Dropout,Conv1D,Conv2D,Activation,LSTM,MaxPooling2D,Flatten, Cropping2D, Lambda, Dense, GlobalAveragePooling2D\n",
    "from tensorflow.keras.models import Sequential, Model,model_from_json\n",
    "from tensorflow.keras.preprocessing.image import ImageDataGenerator\n",
    "import tensorflow as tf\n",
    "\n",
    "# Set a couple flags for training - you can ignore these for now\n",
    "freeze_flag = True  # `True` to freeze layers, `False` for full training\n",
    "weights_flag = 'imagenet' # 'imagenet' or None\n",
    "preprocess_flag = True # Should be true for ImageNet pre-trained typically\n",
    "\n",
    "# Loads in InceptionV3\n",
    "from tensorflow.keras.applications.inception_v3 import InceptionV3\n",
    "\n",
    "# We can use smaller than the default 299x299x3 input for InceptionV3\n",
    "# which will speed up training. Keras v2.0.9 supports down to 139x139x3\n",
    "input_size = 139\n",
    "\n",
    "\n",
    "# Using Inception with ImageNet pre-trained weights\n",
    "inception = InceptionV3(weights=weights_flag, include_top=False,\n",
    "                        input_shape=(input_size,input_size,3))\n",
    "inception.layers.pop()\n",
    "\n",
    "if freeze_flag == True:\n",
    "    ## TODO: Iterate through the layers of the Inception model\n",
    "    ##       loaded above and set all of them to have trainable = False\n",
    "    for layer in inception.layers[:-3]:\n",
    "        layer.trainable = False\n",
    "\n",
    "\n",
    "def InceptionModel(x_train):\n",
    "    X_input = Input(x_train.shape)\n",
    "\n",
    "    X = Cropping2D(cropping=((60,25), (0,0)))(X_input)\n",
    "\n",
    "    # Re-sizes the input with Kera's Lambda layer & attach to cifar_input\n",
    "    X = Lambda(lambda image: tf.image.resize_images( \n",
    "        image, (input_size, input_size)))(X)\n",
    "\n",
    "    # Feeds the re-sized input into Inception model\n",
    "    inp = inception(X)\n",
    "\n",
    "    model = GlobalAveragePooling2D(data_format=None)(inception.get_output_at(-1))\n",
    "    model = Dense(240)(model)\n",
    "    model = Dense(64)(model)\n",
    "    predictions = Dense(8,activation='softmax')(model)\n",
    "\n",
    "    # Creates the model, assuming your final layer is named \"predictions\"\n",
    "    model = Model(inputs=X_input, outputs=predictions)\n",
    "    # Compile the model\n",
    "    model.compile(optimizer='Adam', loss='mse', metrics=[auc_pr])\n",
    "\n",
    "    # Check the summary of this new model to confirm the architecture\n",
    "    model.summary()\n",
    "    return model\n",
    "# with open('data/ProcessedData.data','rb') as file:\n",
    "#     x_test, y_test = pickle.load(file)\n",
    "#     x_valid, y_valid = pickle.load(file)\n",
    "#     x_train,y_train = pickle.load(file)\n",
    "#     file.close()"
   ]
  },
  {
   "cell_type": "code",
   "execution_count": 7,
   "metadata": {
    "scrolled": true
   },
   "outputs": [
    {
     "name": "stdout",
     "output_type": "stream",
     "text": [
      "WARNING:tensorflow:From C:\\Users\\viswanadhapa\\AppData\\Local\\Continuum\\anaconda3\\lib\\site-packages\\tensorflow\\python\\keras\\utils\\losses_utils.py:170: to_float (from tensorflow.python.ops.math_ops) is deprecated and will be removed in a future version.\n",
      "Instructions for updating:\n",
      "Use tf.cast instead.\n",
      "WARNING:tensorflow:Trapezoidal rule is known to produce incorrect PR-AUCs; please switch to \"careful_interpolation\" instead.\n",
      "WARNING:tensorflow:From C:\\Users\\viswanadhapa\\AppData\\Local\\Continuum\\anaconda3\\lib\\site-packages\\tensorflow\\python\\ops\\metrics_impl.py:788: div (from tensorflow.python.ops.math_ops) is deprecated and will be removed in a future version.\n",
      "Instructions for updating:\n",
      "Deprecated in favor of operator or tf.math.divide.\n",
      "WARNING:tensorflow:Trapezoidal rule is known to produce incorrect PR-AUCs; please switch to \"careful_interpolation\" instead.\n",
      "WARNING:tensorflow:Trapezoidal rule is known to produce incorrect PR-AUCs; please switch to \"careful_interpolation\" instead.\n",
      "WARNING:tensorflow:Trapezoidal rule is known to produce incorrect PR-AUCs; please switch to \"careful_interpolation\" instead.\n",
      "_________________________________________________________________\n",
      "Layer (type)                 Output Shape              Param #   \n",
      "=================================================================\n",
      "input_3 (InputLayer)         (None, 139, 139, 3)       0         \n",
      "_________________________________________________________________\n",
      "cropping2d (Cropping2D)      (None, 54, 139, 3)        0         \n",
      "_________________________________________________________________\n",
      "lambda (Lambda)              (None, 139, 139, 3)       0         \n",
      "_________________________________________________________________\n",
      "inception_v3 (Model)         (None, 3, 3, 2048)        21802784  \n",
      "_________________________________________________________________\n",
      "global_average_pooling2d (Gl (None, 2048)              0         \n",
      "_________________________________________________________________\n",
      "dense (Dense)                (None, 240)               491760    \n",
      "_________________________________________________________________\n",
      "dense_1 (Dense)              (None, 64)                15424     \n",
      "_________________________________________________________________\n",
      "dense_2 (Dense)              (None, 8)                 520       \n",
      "=================================================================\n",
      "Total params: 22,310,488\n",
      "Trainable params: 507,704\n",
      "Non-trainable params: 21,802,784\n",
      "_________________________________________________________________\n"
     ]
    }
   ],
   "source": [
    "model = InceptionModel(P_Train_X[0])"
   ]
  },
  {
   "cell_type": "code",
   "execution_count": 8,
   "metadata": {
    "scrolled": true
   },
   "outputs": [
    {
     "name": "stdout",
     "output_type": "stream",
     "text": [
      "WARNING:tensorflow:From C:\\Users\\viswanadhapa\\AppData\\Local\\Continuum\\anaconda3\\lib\\site-packages\\tensorflow\\python\\ops\\math_ops.py:3066: to_int32 (from tensorflow.python.ops.math_ops) is deprecated and will be removed in a future version.\n",
      "Instructions for updating:\n",
      "Use tf.cast instead.\n",
      "Epoch 1/2\n",
      "992/992 [==============================] - 44s 44ms/sample - loss: 0.1412 - auc_pr: 0.1880\n",
      "Epoch 2/2\n",
      "992/992 [==============================] - 43s 43ms/sample - loss: 0.1036 - auc_pr: 0.2955\n"
     ]
    },
    {
     "data": {
      "text/plain": [
       "<tensorflow.python.keras.callbacks.History at 0x19da4baa208>"
      ]
     },
     "execution_count": 8,
     "metadata": {},
     "output_type": "execute_result"
    }
   ],
   "source": [
    "model.fit(P_Train_X, P_Train_Y, epochs=2)"
   ]
  },
  {
   "cell_type": "code",
   "execution_count": null,
   "metadata": {},
   "outputs": [],
   "source": []
  },
  {
   "cell_type": "code",
   "execution_count": null,
   "metadata": {},
   "outputs": [],
   "source": []
  },
  {
   "cell_type": "code",
   "execution_count": 11,
   "metadata": {
    "scrolled": true
   },
   "outputs": [
    {
     "name": "stdout",
     "output_type": "stream",
     "text": [
      "Epoch 1/50\n",
      "992/992 [==============================] - 43s 43ms/sample - loss: 0.0885 - auc_pr: 0.3728\n",
      "Epoch 2/50\n",
      "992/992 [==============================] - 43s 43ms/sample - loss: 0.0889 - auc_pr: 0.4356\n",
      "Epoch 3/50\n",
      "992/992 [==============================] - 48s 48ms/sample - loss: 0.1003 - auc_pr: 0.4608\n",
      "Epoch 4/50\n",
      "992/992 [==============================] - 51s 51ms/sample - loss: 0.0765 - auc_pr: 0.4828\n",
      "Epoch 5/50\n",
      "992/992 [==============================] - 53s 53ms/sample - loss: 0.0708 - auc_pr: 0.5109\n",
      "Epoch 6/50\n",
      "992/992 [==============================] - 51s 52ms/sample - loss: 0.0675 - auc_pr: 0.5296\n",
      "Epoch 7/50\n",
      "992/992 [==============================] - 50s 50ms/sample - loss: 0.0678 - auc_pr: 0.5491\n",
      "Epoch 8/50\n",
      "992/992 [==============================] - 47s 48ms/sample - loss: 0.0689 - auc_pr: 0.5644\n",
      "Epoch 9/50\n",
      "992/992 [==============================] - 47s 47ms/sample - loss: 0.0609 - auc_pr: 0.5786\n",
      "Epoch 10/50\n",
      "992/992 [==============================] - 48s 48ms/sample - loss: 0.0641 - auc_pr: 0.5915\n",
      "Epoch 11/50\n",
      "992/992 [==============================] - 49s 49ms/sample - loss: 0.0507 - auc_pr: 0.6043\n",
      "Epoch 12/50\n",
      "992/992 [==============================] - 48s 48ms/sample - loss: 0.0502 - auc_pr: 0.6181\n",
      "Epoch 13/50\n",
      "992/992 [==============================] - 49s 49ms/sample - loss: 0.0473 - auc_pr: 0.6305\n",
      "Epoch 14/50\n",
      "992/992 [==============================] - 48s 48ms/sample - loss: 0.0387 - auc_pr: 0.6450\n",
      "Epoch 15/50\n",
      "992/992 [==============================] - 46s 47ms/sample - loss: 0.0390 - auc_pr: 0.6587\n",
      "Epoch 16/50\n",
      "992/992 [==============================] - 49s 49ms/sample - loss: 0.0451 - auc_pr: 0.6704\n",
      "Epoch 17/50\n",
      "992/992 [==============================] - 46s 47ms/sample - loss: 0.0311 - auc_pr: 0.6809\n",
      "Epoch 18/50\n",
      "992/992 [==============================] - 46s 46ms/sample - loss: 0.0233 - auc_pr: 0.6938\n",
      "Epoch 19/50\n",
      "992/992 [==============================] - 45s 45ms/sample - loss: 0.0206 - auc_pr: 0.7073\n",
      "Epoch 20/50\n",
      "992/992 [==============================] - 44s 44ms/sample - loss: 0.0267 - auc_pr: 0.7187\n",
      "Epoch 21/50\n",
      "992/992 [==============================] - 42s 43ms/sample - loss: 0.0194 - auc_pr: 0.7291\n",
      "Epoch 22/50\n",
      "992/992 [==============================] - 42s 42ms/sample - loss: 0.0227 - auc_pr: 0.7397\n",
      "Epoch 23/50\n",
      "992/992 [==============================] - 42s 42ms/sample - loss: 0.0174 - auc_pr: 0.7493\n",
      "Epoch 24/50\n",
      "992/992 [==============================] - 42s 42ms/sample - loss: 0.0237 - auc_pr: 0.7582\n",
      "Epoch 25/50\n",
      "992/992 [==============================] - 42s 42ms/sample - loss: 0.0252 - auc_pr: 0.7651\n",
      "Epoch 26/50\n",
      "992/992 [==============================] - 41s 41ms/sample - loss: 0.0224 - auc_pr: 0.7719\n",
      "Epoch 27/50\n",
      "992/992 [==============================] - 41s 41ms/sample - loss: 0.0204 - auc_pr: 0.7786\n",
      "Epoch 28/50\n",
      "992/992 [==============================] - 42s 42ms/sample - loss: 0.0173 - auc_pr: 0.7855\n",
      "Epoch 29/50\n",
      "992/992 [==============================] - 41s 41ms/sample - loss: 0.0196 - auc_pr: 0.7921\n",
      "Epoch 30/50\n",
      "992/992 [==============================] - 41s 41ms/sample - loss: 0.0275 - auc_pr: 0.7971\n",
      "Epoch 31/50\n",
      "992/992 [==============================] - 41s 41ms/sample - loss: 0.0199 - auc_pr: 0.8021\n",
      "Epoch 32/50\n",
      "992/992 [==============================] - 41s 42ms/sample - loss: 0.0217 - auc_pr: 0.8068\n",
      "Epoch 33/50\n",
      "992/992 [==============================] - 42s 42ms/sample - loss: 0.0183 - auc_pr: 0.8117\n",
      "Epoch 34/50\n",
      "992/992 [==============================] - 41s 42ms/sample - loss: 0.0156 - auc_pr: 0.8168\n",
      "Epoch 35/50\n",
      "992/992 [==============================] - 41s 41ms/sample - loss: 0.0207 - auc_pr: 0.8214\n",
      "Epoch 36/50\n",
      "992/992 [==============================] - 41s 41ms/sample - loss: 0.0149 - auc_pr: 0.8255\n",
      "Epoch 37/50\n",
      "992/992 [==============================] - 41s 42ms/sample - loss: 0.0214 - auc_pr: 0.8293\n",
      "Epoch 38/50\n",
      "992/992 [==============================] - 41s 41ms/sample - loss: 0.0179 - auc_pr: 0.8327\n",
      "Epoch 39/50\n",
      "992/992 [==============================] - 41s 41ms/sample - loss: 0.0149 - auc_pr: 0.8364\n",
      "Epoch 40/50\n",
      "992/992 [==============================] - 41s 41ms/sample - loss: 0.0218 - auc_pr: 0.8396\n",
      "Epoch 41/50\n",
      "992/992 [==============================] - 41s 41ms/sample - loss: 0.0170 - auc_pr: 0.8426\n",
      "Epoch 42/50\n",
      "992/992 [==============================] - 40s 41ms/sample - loss: 0.0219 - auc_pr: 0.8452\n",
      "Epoch 43/50\n",
      "992/992 [==============================] - 41s 41ms/sample - loss: 0.0147 - auc_pr: 0.8481\n",
      "Epoch 44/50\n",
      "992/992 [==============================] - 40s 41ms/sample - loss: 0.0187 - auc_pr: 0.8510\n",
      "Epoch 45/50\n",
      "992/992 [==============================] - 41s 41ms/sample - loss: 0.0202 - auc_pr: 0.8535\n",
      "Epoch 46/50\n",
      "992/992 [==============================] - 41s 41ms/sample - loss: 0.0153 - auc_pr: 0.8560\n",
      "Epoch 47/50\n",
      "992/992 [==============================] - 41s 41ms/sample - loss: 0.0187 - auc_pr: 0.8586\n",
      "Epoch 48/50\n",
      "992/992 [==============================] - 41s 41ms/sample - loss: 0.0128 - auc_pr: 0.8610\n",
      "Epoch 49/50\n",
      "992/992 [==============================] - 40s 41ms/sample - loss: 0.0137 - auc_pr: 0.8636\n",
      "Epoch 50/50\n",
      "992/992 [==============================] - 41s 41ms/sample - loss: 0.0134 - auc_pr: 0.8659\n"
     ]
    },
    {
     "data": {
      "text/plain": [
       "<tensorflow.python.keras.callbacks.History at 0x19d80ac7da0>"
      ]
     },
     "execution_count": 11,
     "metadata": {},
     "output_type": "execute_result"
    }
   ],
   "source": [
    "model.fit(P_Train_X, P_Train_Y, epochs=50)"
   ]
  },
  {
   "cell_type": "code",
   "execution_count": 9,
   "metadata": {
    "scrolled": true
   },
   "outputs": [],
   "source": [
    "model.save('Inception.h5')"
   ]
  },
  {
   "cell_type": "code",
   "execution_count": 12,
   "metadata": {
    "scrolled": true
   },
   "outputs": [],
   "source": [
    "model_json = model.to_json()\n",
    "with open('Inception.json','w') as file:\n",
    "    file.write(model_json)\n",
    "model.save_weights('Inception.h5')"
   ]
  },
  {
   "cell_type": "code",
   "execution_count": null,
   "metadata": {},
   "outputs": [],
   "source": []
  },
  {
   "cell_type": "code",
   "execution_count": null,
   "metadata": {},
   "outputs": [],
   "source": []
  },
  {
   "cell_type": "code",
   "execution_count": null,
   "metadata": {},
   "outputs": [],
   "source": []
  },
  {
   "cell_type": "code",
   "execution_count": null,
   "metadata": {},
   "outputs": [],
   "source": []
  },
  {
   "cell_type": "code",
   "execution_count": null,
   "metadata": {},
   "outputs": [],
   "source": []
  },
  {
   "cell_type": "code",
   "execution_count": null,
   "metadata": {},
   "outputs": [],
   "source": []
  },
  {
   "cell_type": "code",
   "execution_count": null,
   "metadata": {},
   "outputs": [],
   "source": []
  },
  {
   "cell_type": "code",
   "execution_count": null,
   "metadata": {},
   "outputs": [],
   "source": []
  },
  {
   "cell_type": "code",
   "execution_count": null,
   "metadata": {},
   "outputs": [],
   "source": []
  },
  {
   "cell_type": "code",
   "execution_count": null,
   "metadata": {},
   "outputs": [],
   "source": []
  },
  {
   "cell_type": "code",
   "execution_count": null,
   "metadata": {},
   "outputs": [],
   "source": []
  },
  {
   "cell_type": "code",
   "execution_count": null,
   "metadata": {},
   "outputs": [],
   "source": []
  },
  {
   "cell_type": "code",
   "execution_count": null,
   "metadata": {},
   "outputs": [],
   "source": []
  },
  {
   "cell_type": "code",
   "execution_count": null,
   "metadata": {},
   "outputs": [],
   "source": []
  },
  {
   "cell_type": "code",
   "execution_count": null,
   "metadata": {},
   "outputs": [],
   "source": []
  },
  {
   "cell_type": "code",
   "execution_count": 35,
   "metadata": {
    "scrolled": true
   },
   "outputs": [
    {
     "data": {
      "text/plain": [
       "'reviews_Cell_Phones_and_Accessories_5.json.gz'"
      ]
     },
     "execution_count": 35,
     "metadata": {},
     "output_type": "execute_result"
    }
   ],
   "source": [
    "os.listdir(folder)[5]\n",
    "\n",
    "df = getDF('Data/Reviews/reviews_Home_and_Kitchen_5.json.gz')\n",
    "folder = 'Data/Reviews'"
   ]
  },
  {
   "cell_type": "code",
   "execution_count": 74,
   "metadata": {
    "scrolled": true
   },
   "outputs": [
    {
     "name": "stdout",
     "output_type": "stream",
     "text": [
      "\n",
      "\n",
      " reviews_Amazon_Instant_Video_5.json.gz\n",
      "Overall Negative Comments associated with reviews are  --  4.627484781554705\n",
      "Negative values Distributions supported by helpful flag \n",
      " 3      40.861467\n",
      "5       8.498254\n",
      "10      8.265425\n",
      "100     5.296857\n",
      "Name: helpful, dtype: float64\n"
     ]
    },
    {
     "data": {
      "image/png": "[encoded data removed]",
      "text/plain": [
       "<Figure size 432x288 with 1 Axes>"
      ]
     },
     "metadata": {
      "needs_background": "light"
     },
     "output_type": "display_data"
    },
    {
     "name": "stdout",
     "output_type": "stream",
     "text": [
      "\n",
      "\n",
      " reviews_Apps_for_Android_5.json.gz\n",
      "Overall Negative Comments associated with reviews are  --  10.454128300242916\n",
      "Negative values Distributions supported by helpful flag \n",
      " 3      32.837015\n",
      "5       6.602467\n",
      "10      7.151296\n",
      "100     8.607219\n",
      "Name: helpful, dtype: float64\n"
     ]
    },
    {
     "data": {
      "image/png": "[encoded data removed]",
      "text/plain": [
       "<Figure size 432x288 with 1 Axes>"
      ]
     },
     "metadata": {
      "needs_background": "light"
     },
     "output_type": "display_data"
    },
    {
     "name": "stdout",
     "output_type": "stream",
     "text": [
      "\n",
      "\n",
      " reviews_Automotive_5.json.gz\n",
      "Overall Negative Comments associated with reviews are  --  2.6473892443706344\n",
      "Negative values Distributions supported by helpful flag \n",
      " 3      35.793358\n",
      "5       6.826568\n",
      "10      5.166052\n",
      "100     6.457565\n",
      "Name: helpful, dtype: float64\n"
     ]
    },
    {
     "data": {
      "image/png": "[encoded data removed]",
      "text/plain": [
       "<Figure size 432x288 with 1 Axes>"
      ]
     },
     "metadata": {
      "needs_background": "light"
     },
     "output_type": "display_data"
    },
    {
     "name": "stdout",
     "output_type": "stream",
     "text": [
      "\n",
      "\n",
      " reviews_Baby_5.json.gz\n",
      "Overall Negative Comments associated with reviews are  --  4.862804119607941\n",
      "Negative values Distributions supported by helpful flag \n",
      " 3      33.917381\n",
      "5       5.409899\n",
      "10      4.668116\n",
      "100     4.668116\n",
      "Name: helpful, dtype: float64\n"
     ]
    },
    {
     "data": {
      "image/png": "[encoded data removed]",
      "text/plain": [
       "<Figure size 432x288 with 1 Axes>"
      ]
     },
     "metadata": {
      "needs_background": "light"
     },
     "output_type": "display_data"
    },
    {
     "name": "stdout",
     "output_type": "stream",
     "text": [
      "\n",
      "\n",
      " reviews_Beauty_5.json.gz\n",
      "Overall Negative Comments associated with reviews are  --  5.302717352973774\n",
      "Negative values Distributions supported by helpful flag \n",
      " 3      37.421623\n",
      "5       6.517196\n",
      "10      4.455634\n",
      "100     4.151625\n",
      "Name: helpful, dtype: float64\n"
     ]
    },
    {
     "data": {
      "image/png": "[encoded data removed]",
      "text/plain": [
       "<Figure size 432x288 with 1 Axes>"
      ]
     },
     "metadata": {
      "needs_background": "light"
     },
     "output_type": "display_data"
    },
    {
     "name": "stdout",
     "output_type": "stream",
     "text": [
      "\n",
      "\n",
      " reviews_Cell_Phones_and_Accessories_5.json.gz\n",
      "Overall Negative Comments associated with reviews are  --  6.829391222954243\n",
      "Negative values Distributions supported by helpful flag \n",
      " 3      22.531817\n",
      "5       2.921907\n",
      "10      2.673394\n",
      "100     2.598087\n",
      "Name: helpful, dtype: float64\n"
     ]
    },
    {
     "data": {
      "image/png": "[encoded data removed]",
      "text/plain": [
       "<Figure size 432x288 with 1 Axes>"
      ]
     },
     "metadata": {
      "needs_background": "light"
     },
     "output_type": "display_data"
    },
    {
     "name": "stdout",
     "output_type": "stream",
     "text": [
      "\n",
      "\n",
      " reviews_Clothing_Shoes_and_Jewelry_5.json.gz\n",
      "Overall Negative Comments associated with reviews are  --  4.016119019510042\n",
      "Negative values Distributions supported by helpful flag \n",
      " 3      31.361687\n",
      "5       4.574696\n",
      "10      3.984989\n",
      "100     3.100429\n",
      "Name: helpful, dtype: float64\n"
     ]
    },
    {
     "data": {
      "image/png": "[encoded data removed]",
      "text/plain": [
       "<Figure size 432x288 with 1 Axes>"
      ]
     },
     "metadata": {
      "needs_background": "light"
     },
     "output_type": "display_data"
    },
    {
     "name": "stdout",
     "output_type": "stream",
     "text": [
      "\n",
      "\n",
      " reviews_Digital_Music_5.json.gz\n",
      "Overall Negative Comments associated with reviews are  --  4.313355793898556\n",
      "Negative values Distributions supported by helpful flag \n",
      " 3      41.920459\n",
      "5      17.663920\n",
      "10     16.302401\n",
      "100     9.172340\n",
      "Name: helpful, dtype: float64\n"
     ]
    },
    {
     "data": {
      "image/png": "[encoded data removed]",
      "text/plain": [
       "<Figure size 432x288 with 1 Axes>"
      ]
     },
     "metadata": {
      "needs_background": "light"
     },
     "output_type": "display_data"
    },
    {
     "name": "stdout",
     "output_type": "stream",
     "text": [
      "\n",
      "\n",
      " reviews_Electronics_5.json.gz\n",
      "Overall Negative Comments associated with reviews are  --  6.43652453131327\n",
      "Negative values Distributions supported by helpful flag \n",
      " 3      34.106231\n",
      "5       6.884341\n",
      "10      6.936767\n",
      "100     7.290871\n",
      "Name: helpful, dtype: float64\n"
     ]
    },
    {
     "data": {
      "image/png": "[encoded data removed]",
      "text/plain": [
       "<Figure size 432x288 with 1 Axes>"
      ]
     },
     "metadata": {
      "needs_background": "light"
     },
     "output_type": "display_data"
    },
    {
     "name": "stdout",
     "output_type": "stream",
     "text": [
      "\n",
      "\n",
      " reviews_Grocery_and_Gourmet_Food_5.json.gz\n",
      "Overall Negative Comments associated with reviews are  --  3.8207254023034096\n",
      "Negative values Distributions supported by helpful flag \n",
      " 3      40.716387\n",
      "5       8.080983\n",
      "10      6.091019\n",
      "100     5.623810\n",
      "Name: helpful, dtype: float64\n"
     ]
    },
    {
     "data": {
      "image/png": "[encoded data removed]",
      "text/plain": [
       "<Figure size 432x288 with 1 Axes>"
      ]
     },
     "metadata": {
      "needs_background": "light"
     },
     "output_type": "display_data"
    },
    {
     "name": "stdout",
     "output_type": "stream",
     "text": [
      "\n",
      "\n",
      " reviews_Home_and_Kitchen_5.json.gz\n",
      "Overall Negative Comments associated with reviews are  --  4.913337756171128\n",
      "Negative values Distributions supported by helpful flag \n",
      " 3      36.918026\n",
      "5       8.311813\n",
      "10      8.883642\n",
      "100    10.894267\n",
      "Name: helpful, dtype: float64\n"
     ]
    },
    {
     "data": {
      "image/png": "[encoded data removed]",
      "text/plain": [
       "<Figure size 432x288 with 1 Axes>"
      ]
     },
     "metadata": {
      "needs_background": "light"
     },
     "output_type": "display_data"
    },
    {
     "name": "stdout",
     "output_type": "stream",
     "text": [
      "\n",
      "\n",
      " reviews_Kindle_Store_5.json.gz\n",
      "Overall Negative Comments associated with reviews are  --  2.3425152576939787\n",
      "Negative values Distributions supported by helpful flag \n",
      " 3      37.692241\n",
      "5       7.181336\n",
      "10      6.881571\n",
      "100     5.513077\n",
      "Name: helpful, dtype: float64\n"
     ]
    },
    {
     "data": {
      "image/png": "[encoded data removed]",
      "text/plain": [
       "<Figure size 432x288 with 1 Axes>"
      ]
     },
     "metadata": {
      "needs_background": "light"
     },
     "output_type": "display_data"
    },
    {
     "name": "stdout",
     "output_type": "stream",
     "text": [
      "\n",
      "\n",
      " reviews_Movies_and_TV_5.json.gz\n",
      "Overall Negative Comments associated with reviews are  --  6.139438820924247\n",
      "Negative values Distributions supported by helpful flag \n",
      " 3      37.228336\n",
      "5      13.456280\n",
      "10     15.313906\n",
      "100    12.777900\n",
      "Name: helpful, dtype: float64\n"
     ]
    },
    {
     "data": {
      "image/png": "[encoded data removed]",
      "text/plain": [
       "<Figure size 432x288 with 1 Axes>"
      ]
     },
     "metadata": {
      "needs_background": "light"
     },
     "output_type": "display_data"
    },
    {
     "name": "stdout",
     "output_type": "stream",
     "text": [
      "\n",
      "\n",
      " reviews_Musical_Instruments_5.json.gz\n",
      "Overall Negative Comments associated with reviews are  --  2.1148036253776437\n",
      "Negative values Distributions supported by helpful flag \n",
      " 3      35.023041\n",
      "5       6.451613\n",
      "10      4.608295\n",
      "100     3.686636\n",
      "Name: helpful, dtype: float64\n"
     ]
    },
    {
     "data": {
      "image/png": "[encoded data removed]",
      "text/plain": [
       "<Figure size 432x288 with 1 Axes>"
      ]
     },
     "metadata": {
      "needs_background": "light"
     },
     "output_type": "display_data"
    },
    {
     "name": "stdout",
     "output_type": "stream",
     "text": [
      "\n",
      "\n",
      " reviews_Office_Products_5.json.gz\n",
      "Overall Negative Comments associated with reviews are  --  2.1217469675917235\n",
      "Negative values Distributions supported by helpful flag \n",
      " 3      37.964602\n",
      "5       7.345133\n",
      "10      7.168142\n",
      "100     8.672566\n",
      "Name: helpful, dtype: float64\n"
     ]
    },
    {
     "data": {
      "image/png": "[encoded data removed]",
      "text/plain": [
       "<Figure size 432x288 with 1 Axes>"
      ]
     },
     "metadata": {
      "needs_background": "light"
     },
     "output_type": "display_data"
    },
    {
     "name": "stdout",
     "output_type": "stream",
     "text": [
      "\n",
      "\n",
      " reviews_Patio_Lawn_and_Garden_5.json.gz\n",
      "Overall Negative Comments associated with reviews are  --  3.9104882459312837\n",
      "Negative values Distributions supported by helpful flag \n",
      " 3      39.884393\n",
      "5       7.129094\n",
      "10      5.587669\n",
      "100     9.826590\n",
      "Name: helpful, dtype: float64\n"
     ]
    },
    {
     "data": {
      "image/png": "[encoded data removed]",
      "text/plain": [
       "<Figure size 432x288 with 1 Axes>"
      ]
     },
     "metadata": {
      "needs_background": "light"
     },
     "output_type": "display_data"
    },
    {
     "name": "stdout",
     "output_type": "stream",
     "text": [
      "\n",
      "\n",
      " reviews_Pet_Supplies_5.json.gz\n",
      "Overall Negative Comments associated with reviews are  --  5.542461795788033\n",
      "Negative values Distributions supported by helpful flag \n",
      " 3      35.791038\n",
      "5       5.761317\n",
      "10      4.766804\n",
      "100     4.378144\n",
      "Name: helpful, dtype: float64\n"
     ]
    },
    {
     "data": {
      "image/png": "[encoded data removed]",
      "text/plain": [
       "<Figure size 432x288 with 1 Axes>"
      ]
     },
     "metadata": {
      "needs_background": "light"
     },
     "output_type": "display_data"
    },
    {
     "name": "stdout",
     "output_type": "stream",
     "text": [
      "\n",
      "\n",
      " reviews_Sports_and_Outdoors_5.json.gz\n",
      "Overall Negative Comments associated with reviews are  --  3.052268194656759\n",
      "Negative values Distributions supported by helpful flag \n",
      " 3      35.986733\n",
      "5       6.522941\n",
      "10      6.434494\n",
      "100     5.096739\n",
      "Name: helpful, dtype: float64\n"
     ]
    },
    {
     "data": {
      "image/png": "[encoded data removed]",
      "text/plain": [
       "<Figure size 432x288 with 1 Axes>"
      ]
     },
     "metadata": {
      "needs_background": "light"
     },
     "output_type": "display_data"
    },
    {
     "name": "stdout",
     "output_type": "stream",
     "text": [
      "\n",
      "\n",
      " reviews_Tools_and_Home_Improvement_5.json.gz\n",
      "Overall Negative Comments associated with reviews are  --  3.8244742556292572\n",
      "Negative values Distributions supported by helpful flag \n",
      " 3      35.737896\n",
      "5       9.060859\n",
      "10      9.585845\n",
      "100    11.121913\n",
      "Name: helpful, dtype: float64\n"
     ]
    },
    {
     "data": {
      "image/png": "[encoded data removed]",
      "text/plain": [
       "<Figure size 432x288 with 1 Axes>"
      ]
     },
     "metadata": {
      "needs_background": "light"
     },
     "output_type": "display_data"
    },
    {
     "name": "stdout",
     "output_type": "stream",
     "text": [
      "\n",
      "\n",
      " reviews_Video_Games_5.json.gz\n",
      "Overall Negative Comments associated with reviews are  --  6.408231944084908\n",
      "Negative values Distributions supported by helpful flag \n",
      " 3      34.215310\n",
      "5      10.927085\n",
      "10     14.051033\n",
      "100    15.128257\n",
      "Name: helpful, dtype: float64\n"
     ]
    },
    {
     "data": {
      "image/png": "[encoded data removed]",
      "text/plain": [
       "<Figure size 432x288 with 1 Axes>"
      ]
     },
     "metadata": {
      "needs_background": "light"
     },
     "output_type": "display_data"
    }
   ],
   "source": [
    "for file in os.listdir(folder):\n",
    "    df = getDF(os.path.join(folder,file))\n",
    "    df1 = df.loc[df.overall==1]\n",
    "    print('\\n\\n',file)\n",
    "    print('Overall Negative Comments associated with reviews are  -- ',df.overall.eq(1).sum()/df.shape[0]*100)\n",
    "    FlagDist = pd.cut(df1.helpful.str[0],[0,3,5,10,100],labels=[3,5,10,100]).value_counts().sort_index()\n",
    "    print('Negative values Distributions supported by helpful flag \\n',FlagDist/df1.shape[0]*100)\n",
    "    FlagDist.plot(kind='bar')\n",
    "    plt.show()\n"
   ]
  },
  {
   "cell_type": "code",
   "execution_count": 46,
   "metadata": {
    "scrolled": false
   },
   "outputs": [
    {
     "name": "stdout",
     "output_type": "stream",
     "text": [
      "reviews_Grocery_and_Gourmet_Food_5.json.gz\n",
      "Overall Negative Comments associated with reviews are  --  3.8207254023034096\n",
      "Negative values Distributions supported by helpful flag \n",
      " 3      40.716387\n",
      "5       8.080983\n",
      "10      6.091019\n",
      "100     5.623810\n",
      "Name: helpful, dtype: float64\n"
     ]
    },
    {
     "data": {
      "text/plain": [
       "<matplotlib.axes._subplots.AxesSubplot at 0x200f664b0b8>"
      ]
     },
     "execution_count": 46,
     "metadata": {},
     "output_type": "execute_result"
    },
    {
     "data": {
      "image/png": "[encoded data removed]",
      "text/plain": [
       "<Figure size 432x288 with 1 Axes>"
      ]
     },
     "metadata": {
      "needs_background": "light"
     },
     "output_type": "display_data"
    }
   ],
   "source": [
    "file = os.listdir(folder)[9]\n",
    "df = getDF(os.path.join(folder,file))\n",
    "df1 = df.loc[df.overall==1]\n",
    "print(file)\n",
    "print('Overall Negative Comments associated with reviews are  -- ',df.overall.eq(1).sum()/df.shape[0]*100)\n",
    "FlagDist = pd.cut(df1.helpful.str[0],[0,3,5,10,100],labels=[3,5,10,100]).value_counts().sort_index()\n",
    "print('Negative values Distributions supported by helpful flag \\n',FlagDist/df1.shape[0]*100)\n",
    "FlagDist.plot(kind='bar')"
   ]
  },
  {
   "cell_type": "code",
   "execution_count": 64,
   "metadata": {
    "scrolled": true
   },
   "outputs": [
    {
     "data": {
      "text/plain": [
       "['reviews_Amazon_Instant_Video_5.json.gz',\n",
       " 'reviews_Apps_for_Android_5.json.gz',\n",
       " 'reviews_Automotive_5.json.gz',\n",
       " 'reviews_Baby_5.json.gz',\n",
       " 'reviews_Beauty_5.json.gz',\n",
       " 'reviews_Cell_Phones_and_Accessories_5.json.gz',\n",
       " 'reviews_Clothing_Shoes_and_Jewelry_5.json.gz',\n",
       " 'reviews_Digital_Music_5.json.gz',\n",
       " 'reviews_Electronics_5.json.gz',\n",
       " 'reviews_Grocery_and_Gourmet_Food_5.json.gz',\n",
       " 'reviews_Home_and_Kitchen_5.json.gz',\n",
       " 'reviews_Kindle_Store_5.json.gz',\n",
       " 'reviews_Movies_and_TV_5.json.gz',\n",
       " 'reviews_Musical_Instruments_5.json.gz',\n",
       " 'reviews_Office_Products_5.json.gz',\n",
       " 'reviews_Patio_Lawn_and_Garden_5.json.gz',\n",
       " 'reviews_Pet_Supplies_5.json.gz',\n",
       " 'reviews_Sports_and_Outdoors_5.json.gz',\n",
       " 'reviews_Tools_and_Home_Improvement_5.json.gz',\n",
       " 'reviews_Video_Games_5.json.gz']"
      ]
     },
     "execution_count": 64,
     "metadata": {},
     "output_type": "execute_result"
    }
   ],
   "source": [
    "os.listdir(folder)"
   ]
  },
  {
   "cell_type": "code",
   "execution_count": 65,
   "metadata": {},
   "outputs": [
    {
     "data": {
      "text/plain": [
       "13"
      ]
     },
     "execution_count": 65,
     "metadata": {},
     "output_type": "execute_result"
    }
   ],
   "source": [
    "os.listdir(folder).index('reviews_Musical_Instruments_5.json.gz')"
   ]
  },
  {
   "cell_type": "code",
   "execution_count": 67,
   "metadata": {},
   "outputs": [
    {
     "data": {
      "text/plain": [
       "Series([], dtype: int64)"
      ]
     },
     "execution_count": 67,
     "metadata": {},
     "output_type": "execute_result"
    }
   ],
   "source": [
    "a = df2[df2.helpful.str[0].gt(100)][['reviewText','helpful']]['reviewText']\n",
    "ProcessedText = preprocess(' '.join(a))\n",
    "ProcessedWords = nltk.pos_tag(nltk.tokenize.word_tokenize(ProcessedText))\n",
    "pd.Series([word[0] for word in ProcessedWords if word[1] in ['NN', 'VBN', 'NNS']]).value_counts()"
   ]
  },
  {
   "cell_type": "code",
   "execution_count": null,
   "metadata": {},
   "outputs": [],
   "source": []
  },
  {
   "cell_type": "code",
   "execution_count": null,
   "metadata": {},
   "outputs": [],
   "source": []
  },
  {
   "cell_type": "code",
   "execution_count": null,
   "metadata": {},
   "outputs": [],
   "source": []
  },
  {
   "cell_type": "code",
   "execution_count": null,
   "metadata": {},
   "outputs": [],
   "source": []
  },
  {
   "cell_type": "code",
   "execution_count": 22,
   "metadata": {},
   "outputs": [
    {
     "data": {
      "text/plain": [
       "True"
      ]
     },
     "execution_count": 22,
     "metadata": {},
     "output_type": "execute_result"
    }
   ],
   "source": [
    "import webbrowser\n",
    "product = 'bnatural juice'\n",
    "a = 'https://www.bigbasket.com/ps/?q=' + '%20'.join(product.split(' '))\n",
    "\n",
    "webbrowser.open_new_tab(a)"
   ]
  },
  {
   "cell_type": "code",
   "execution_count": 21,
   "metadata": {},
   "outputs": [
    {
     "data": {
      "text/plain": [
       "True"
      ]
     },
     "execution_count": 21,
     "metadata": {},
     "output_type": "execute_result"
    }
   ],
   "source": []
  },
  {
   "cell_type": "code",
   "execution_count": null,
   "metadata": {},
   "outputs": [],
   "source": []
  },
  {
   "cell_type": "code",
   "execution_count": 7,
   "metadata": {},
   "outputs": [
    {
     "ename": "AttributeError",
     "evalue": "'NoneType' object has no attribute 'select_one'",
     "output_type": "error",
     "traceback": [
      "\u001b[1;31m---------------------------------------------------------------------------\u001b[0m",
      "\u001b[1;31mAttributeError\u001b[0m                            Traceback (most recent call last)",
      "\u001b[1;32m<ipython-input-7-3d82560569ba>\u001b[0m in \u001b[0;36m<module>\u001b[1;34m\u001b[0m\n\u001b[0;32m      6\u001b[0m \u001b[0msoup\u001b[0m \u001b[1;33m=\u001b[0m \u001b[0mBeautifulSoup\u001b[0m\u001b[1;33m(\u001b[0m\u001b[0mr\u001b[0m\u001b[1;33m,\u001b[0m\u001b[1;34m\"lxml\"\u001b[0m\u001b[1;33m)\u001b[0m\u001b[1;33m\u001b[0m\u001b[1;33m\u001b[0m\u001b[0m\n\u001b[0;32m      7\u001b[0m \u001b[0mcont\u001b[0m \u001b[1;33m=\u001b[0m \u001b[0msoup\u001b[0m\u001b[1;33m.\u001b[0m\u001b[0mselect_one\u001b[0m\u001b[1;33m(\u001b[0m\u001b[1;34m\"div.systemRequirementsRamContent\"\u001b[0m\u001b[1;33m)\u001b[0m\u001b[1;33m\u001b[0m\u001b[1;33m\u001b[0m\u001b[0m\n\u001b[1;32m----> 8\u001b[1;33m \u001b[0mram\u001b[0m \u001b[1;33m=\u001b[0m \u001b[0mcont\u001b[0m\u001b[1;33m.\u001b[0m\u001b[0mselect_one\u001b[0m\u001b[1;33m(\u001b[0m\u001b[1;34m\"span\"\u001b[0m\u001b[1;33m)\u001b[0m\u001b[1;33m\u001b[0m\u001b[1;33m\u001b[0m\u001b[0m\n\u001b[0m\u001b[0;32m      9\u001b[0m \u001b[0mprint\u001b[0m\u001b[1;33m(\u001b[0m\u001b[0mram\u001b[0m\u001b[1;33m[\u001b[0m\u001b[1;34m\"title\"\u001b[0m\u001b[1;33m]\u001b[0m\u001b[1;33m,\u001b[0m \u001b[0mram\u001b[0m\u001b[1;33m.\u001b[0m\u001b[0mtext\u001b[0m\u001b[1;33m)\u001b[0m\u001b[1;33m\u001b[0m\u001b[1;33m\u001b[0m\u001b[0m\n\u001b[0;32m     10\u001b[0m \u001b[1;32mfor\u001b[0m \u001b[0mspan\u001b[0m \u001b[1;32min\u001b[0m \u001b[0msoup\u001b[0m\u001b[1;33m.\u001b[0m\u001b[0mselect\u001b[0m\u001b[1;33m(\u001b[0m\u001b[1;34m\"div.systemRequirementsSmallerBox.sysReqGameSmallBox span\"\u001b[0m\u001b[1;33m)\u001b[0m\u001b[1;33m:\u001b[0m\u001b[1;33m\u001b[0m\u001b[1;33m\u001b[0m\u001b[0m\n",
      "\u001b[1;31mAttributeError\u001b[0m: 'NoneType' object has no attribute 'select_one'"
     ]
    }
   ],
   "source": [
    "import requests\n",
    "\n",
    "from bs4 import BeautifulSoup \n",
    "r  = requests.get(\"http://www.game-debate.com/games/index.php?g_id=21580&game=000%20Plus\").content\n",
    "\n",
    "soup = BeautifulSoup(r,\"lxml\")\n",
    "cont = soup.select_one(\"div.systemRequirementsRamContent\")\n",
    "ram = cont.select_one(\"span\")\n",
    "print(ram[\"title\"], ram.text)\n",
    "for span in soup.select(\"div.systemRequirementsSmallerBox.sysReqGameSmallBox span\"):\n",
    "        print(span[\"title\"],span.text)"
   ]
  }
 ],
 "metadata": {
  "kernelspec": {
   "display_name": "Python 3",
   "language": "python",
   "name": "python3"
  },
  "language_info": {
   "codemirror_mode": {
    "name": "ipython",
    "version": 3
   },
   "file_extension": ".py",
   "mimetype": "text/x-python",
   "name": "python",
   "nbconvert_exporter": "python",
   "pygments_lexer": "ipython3",
   "version": "3.7.1"
  }
 },
 "nbformat": 4,
 "nbformat_minor": 2
}
